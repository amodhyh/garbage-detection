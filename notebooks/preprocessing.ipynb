{
 "cells": [
  {
   "cell_type": "markdown",
   "id": "136def4a366dfbc0",
   "metadata": {},
   "source": [
    "# Digital Image Processing EC9570\n",
    "## Garbage Classification project\n",
    "\n",
    "By \n",
    "2021/E/045\n",
    "2021/E/179\n"
   ]
  },
  {
   "cell_type": "markdown",
   "id": "4cdcd80f71b689a1",
   "metadata": {},
   "source": [
    "## 1. Imports & Setup"
   ]
  },
  {
   "cell_type": "code",
   "execution_count": 10,
   "id": "initial_id",
   "metadata": {
    "ExecuteTime": {
     "end_time": "2025-09-13T03:29:02.738433Z",
     "start_time": "2025-09-13T03:29:01.062297Z"
    },
    "collapsed": true
   },
   "outputs": [
    {
     "name": "stdout",
     "output_type": "stream",
     "text": [
      "Requirement already satisfied: torch in f:\\uoje\\semester 7\\digital image processing\\project\\.dipproject_venv\\lib\\site-packages (from -r requirements.txt (line 1)) (2.8.0)\n",
      "Requirement already satisfied: torchvision in f:\\uoje\\semester 7\\digital image processing\\project\\.dipproject_venv\\lib\\site-packages (from -r requirements.txt (line 2)) (0.23.0)\n",
      "Requirement already satisfied: numpy in f:\\uoje\\semester 7\\digital image processing\\project\\.dipproject_venv\\lib\\site-packages (from -r requirements.txt (line 3)) (2.2.6)\n",
      "Requirement already satisfied: matplotlib in f:\\uoje\\semester 7\\digital image processing\\project\\.dipproject_venv\\lib\\site-packages (from -r requirements.txt (line 4)) (3.10.5)\n",
      "Requirement already satisfied: scikit-learn in f:\\uoje\\semester 7\\digital image processing\\project\\.dipproject_venv\\lib\\site-packages (from -r requirements.txt (line 5)) (1.7.1)\n",
      "Requirement already satisfied: opencv-python in f:\\uoje\\semester 7\\digital image processing\\project\\.dipproject_venv\\lib\\site-packages (from -r requirements.txt (line 6)) (4.12.0.88)\n",
      "Requirement already satisfied: filelock in f:\\uoje\\semester 7\\digital image processing\\project\\.dipproject_venv\\lib\\site-packages (from torch->-r requirements.txt (line 1)) (3.19.1)\n",
      "Requirement already satisfied: typing-extensions>=4.10.0 in f:\\uoje\\semester 7\\digital image processing\\project\\.dipproject_venv\\lib\\site-packages (from torch->-r requirements.txt (line 1)) (4.14.1)\n",
      "Requirement already satisfied: sympy>=1.13.3 in f:\\uoje\\semester 7\\digital image processing\\project\\.dipproject_venv\\lib\\site-packages (from torch->-r requirements.txt (line 1)) (1.14.0)\n",
      "Requirement already satisfied: networkx in f:\\uoje\\semester 7\\digital image processing\\project\\.dipproject_venv\\lib\\site-packages (from torch->-r requirements.txt (line 1)) (3.5)\n",
      "Requirement already satisfied: jinja2 in f:\\uoje\\semester 7\\digital image processing\\project\\.dipproject_venv\\lib\\site-packages (from torch->-r requirements.txt (line 1)) (3.1.6)\n",
      "Requirement already satisfied: fsspec in f:\\uoje\\semester 7\\digital image processing\\project\\.dipproject_venv\\lib\\site-packages (from torch->-r requirements.txt (line 1)) (2025.7.0)\n",
      "Requirement already satisfied: setuptools in f:\\uoje\\semester 7\\digital image processing\\project\\.dipproject_venv\\lib\\site-packages (from torch->-r requirements.txt (line 1)) (80.9.0)\n",
      "Requirement already satisfied: pillow!=8.3.*,>=5.3.0 in f:\\uoje\\semester 7\\digital image processing\\project\\.dipproject_venv\\lib\\site-packages (from torchvision->-r requirements.txt (line 2)) (11.3.0)\n",
      "Requirement already satisfied: contourpy>=1.0.1 in f:\\uoje\\semester 7\\digital image processing\\project\\.dipproject_venv\\lib\\site-packages (from matplotlib->-r requirements.txt (line 4)) (1.3.3)\n",
      "Requirement already satisfied: cycler>=0.10 in f:\\uoje\\semester 7\\digital image processing\\project\\.dipproject_venv\\lib\\site-packages (from matplotlib->-r requirements.txt (line 4)) (0.12.1)\n",
      "Requirement already satisfied: fonttools>=4.22.0 in f:\\uoje\\semester 7\\digital image processing\\project\\.dipproject_venv\\lib\\site-packages (from matplotlib->-r requirements.txt (line 4)) (4.59.1)\n",
      "Requirement already satisfied: kiwisolver>=1.3.1 in f:\\uoje\\semester 7\\digital image processing\\project\\.dipproject_venv\\lib\\site-packages (from matplotlib->-r requirements.txt (line 4)) (1.4.9)\n",
      "Requirement already satisfied: packaging>=20.0 in f:\\uoje\\semester 7\\digital image processing\\project\\.dipproject_venv\\lib\\site-packages (from matplotlib->-r requirements.txt (line 4)) (25.0)\n",
      "Requirement already satisfied: pyparsing>=2.3.1 in f:\\uoje\\semester 7\\digital image processing\\project\\.dipproject_venv\\lib\\site-packages (from matplotlib->-r requirements.txt (line 4)) (3.2.3)\n",
      "Requirement already satisfied: python-dateutil>=2.7 in f:\\uoje\\semester 7\\digital image processing\\project\\.dipproject_venv\\lib\\site-packages (from matplotlib->-r requirements.txt (line 4)) (2.9.0.post0)\n",
      "Requirement already satisfied: scipy>=1.8.0 in f:\\uoje\\semester 7\\digital image processing\\project\\.dipproject_venv\\lib\\site-packages (from scikit-learn->-r requirements.txt (line 5)) (1.16.1)\n",
      "Requirement already satisfied: joblib>=1.2.0 in f:\\uoje\\semester 7\\digital image processing\\project\\.dipproject_venv\\lib\\site-packages (from scikit-learn->-r requirements.txt (line 5)) (1.5.1)\n",
      "Requirement already satisfied: threadpoolctl>=3.1.0 in f:\\uoje\\semester 7\\digital image processing\\project\\.dipproject_venv\\lib\\site-packages (from scikit-learn->-r requirements.txt (line 5)) (3.6.0)\n",
      "Requirement already satisfied: six>=1.5 in f:\\uoje\\semester 7\\digital image processing\\project\\.dipproject_venv\\lib\\site-packages (from python-dateutil>=2.7->matplotlib->-r requirements.txt (line 4)) (1.17.0)\n",
      "Requirement already satisfied: mpmath<1.4,>=1.1.0 in f:\\uoje\\semester 7\\digital image processing\\project\\.dipproject_venv\\lib\\site-packages (from sympy>=1.13.3->torch->-r requirements.txt (line 1)) (1.3.0)\n",
      "Requirement already satisfied: MarkupSafe>=2.0 in f:\\uoje\\semester 7\\digital image processing\\project\\.dipproject_venv\\lib\\site-packages (from jinja2->torch->-r requirements.txt (line 1)) (3.0.2)\n"
     ]
    },
    {
     "name": "stderr",
     "output_type": "stream",
     "text": [
      "\n",
      "[notice] A new release of pip is available: 25.1.1 -> 25.2\n",
      "[notice] To update, run: python.exe -m pip install --upgrade pip\n"
     ]
    }
   ],
   "source": [
    "import random\n",
    "!pip install -r requirements.txt"
   ]
  },
  {
   "cell_type": "code",
   "execution_count": 11,
   "id": "8e97b38634bdf175",
   "metadata": {
    "ExecuteTime": {
     "end_time": "2025-09-13T03:29:02.755864Z",
     "start_time": "2025-09-13T03:29:02.753241Z"
    }
   },
   "outputs": [],
   "source": [
    "import cv2 as cv\n",
    "import numpy as np\n",
    "import matplotlib.pyplot as plt\n",
    "import torch"
   ]
  },
  {
   "cell_type": "markdown",
   "id": "b536893994045b05",
   "metadata": {},
   "source": [
    "## 2. Inspecting the Dataset"
   ]
  },
  {
   "cell_type": "code",
   "execution_count": 22,
   "id": "6d7371dd4c70c5f7",
   "metadata": {
    "ExecuteTime": {
     "end_time": "2025-09-23T13:48:57.786830Z",
     "start_time": "2025-09-23T13:48:57.784212Z"
    }
   },
   "outputs": [],
   "source": [
    "data_dir='.../../data/raw/'"
   ]
  },
  {
   "cell_type": "code",
   "execution_count": 23,
   "id": "7a47a8696ae35662",
   "metadata": {
    "ExecuteTime": {
     "end_time": "2025-09-23T13:48:58.155081Z",
     "start_time": "2025-09-23T13:48:58.151413Z"
    }
   },
   "outputs": [],
   "source": [
    "import os\n",
    "def class_count(directory):\n",
    "    image_directories=[]\n",
    "    for folder in os.listdir(directory):\n",
    "        sub_folder_path=os.path.join(data_dir,folder)\n",
    "        image_directories.append(sub_folder_path)\n",
    "        print(f\"{folder} - {len(os.listdir(sub_folder_path))}\")\n"
   ]
  },
  {
   "cell_type": "code",
   "execution_count": 25,
   "id": "d702e69e08690f30",
   "metadata": {
    "ExecuteTime": {
     "end_time": "2025-09-23T13:49:40.951510Z",
     "start_time": "2025-09-23T13:49:40.942769Z"
    }
   },
   "outputs": [
    {
     "name": "stdout",
     "output_type": "stream",
     "text": [
      "battery - 945\n",
      "biological - 985\n",
      "brown-glass - 607\n",
      "cardboard - 891\n",
      "clothes - 1989\n",
      "green-glass - 629\n",
      "metal - 769\n",
      "paper - 1050\n",
      "plastic - 865\n",
      "shoes - 1977\n",
      "trash - 697\n",
      "white-glass - 775\n"
     ]
    }
   ],
   "source": [
    "class_count('.../../data/processed')"
   ]
  },
  {
   "cell_type": "markdown",
   "id": "648fd7c15cd7bf02",
   "metadata": {},
   "source": [
    "## 3. Data Augmentation Functions"
   ]
  },
  {
   "cell_type": "markdown",
   "id": "25e5967e8855f685",
   "metadata": {},
   "source": [
    "#### Rotation"
   ]
  },
  {
   "cell_type": "code",
   "execution_count": 26,
   "id": "c77beac9a393c064",
   "metadata": {
    "ExecuteTime": {
     "end_time": "2025-09-23T13:50:14.637351Z",
     "start_time": "2025-09-23T13:50:14.633773Z"
    }
   },
   "outputs": [],
   "source": [
    "\n",
    "def rotate(image):\n",
    "\n",
    "    angle=random.randint(-30,30)\n",
    "    (h, w) = image.shape[:2]\n",
    "    center = (w // 2, h // 2)\n",
    "    rot_matrix = cv2.getRotationMatrix2D(center, angle, 1.0)\n",
    "    rotated_image = cv2.warpAffine(image, rot_matrix, (w, h))\n",
    "\n",
    "    return rotated_image\n"
   ]
  },
  {
   "cell_type": "markdown",
   "id": "cae731cf72a7af9e",
   "metadata": {},
   "source": [
    "### Flip"
   ]
  },
  {
   "cell_type": "code",
   "execution_count": 27,
   "id": "b771f10d057a917f",
   "metadata": {
    "ExecuteTime": {
     "end_time": "2025-09-23T13:50:15.626180Z",
     "start_time": "2025-09-23T13:50:15.623610Z"
    }
   },
   "outputs": [],
   "source": [
    "def flip(image):\n",
    "    flip_code=random.choice([0,1,-1])\n",
    "    flipped_image = cv2.flip(image, flip_code)\n",
    "    return flipped_image"
   ]
  },
  {
   "cell_type": "markdown",
   "id": "df1c122f55b9bf5f",
   "metadata": {},
   "source": [
    "### Random Erasing"
   ]
  },
  {
   "cell_type": "code",
   "execution_count": 28,
   "id": "f4e5fd0a5d372cad",
   "metadata": {
    "ExecuteTime": {
     "end_time": "2025-09-23T13:50:16.855813Z",
     "start_time": "2025-09-23T13:50:16.852265Z"
    }
   },
   "outputs": [],
   "source": [
    "# Randomly selects a rectangle region in an image and erases its pixels.\n",
    "def random_erasing(image):\n",
    "    erased_image = image.copy()\n",
    "    (h, w) = image.shape[:2]\n",
    "    # Define a random rectangle area to erase\n",
    "    erase_h = random.randint(int(h * 0.1), int(h * 0.3))\n",
    "    erase_w = random.randint(int(w * 0.1), int(w * 0.3))\n",
    "    x1 = random.randint(0, w - erase_w)\n",
    "    y1 = random.randint(0, h - erase_h)\n",
    "    # Set the area to black\n",
    "    erased_image[y1:y1 + erase_h, x1:x1 + erase_w] = (0, 0, 0)\n",
    "    return erased_image\n"
   ]
  },
  {
   "cell_type": "markdown",
   "id": "8f6f5fcfa4f65370",
   "metadata": {},
   "source": [
    "## 4. Balancing the Dataset"
   ]
  },
  {
   "cell_type": "code",
   "execution_count": 29,
   "id": "cbcd99fbb270c2b0",
   "metadata": {
    "ExecuteTime": {
     "end_time": "2025-09-23T13:52:40.262682Z",
     "start_time": "2025-09-23T13:50:18.053158Z"
    }
   },
   "outputs": [
    {
     "name": "stdout",
     "output_type": "stream",
     "text": [
      "Target image count per class: 1989\n",
      "Processing class: battery\n",
      "Generating 1044 new images for battery...\n",
      "Processing class: biological\n",
      "Generating 1004 new images for biological...\n",
      "Processing class: brown-glass\n",
      "Generating 1382 new images for brown-glass...\n",
      "Processing class: cardboard\n",
      "Generating 1098 new images for cardboard...\n",
      "Processing class: clothes\n",
      "Generating 0 new images for clothes...\n",
      "Processing class: green-glass\n",
      "Generating 1360 new images for green-glass...\n",
      "Processing class: metal\n",
      "Generating 1220 new images for metal...\n",
      "Processing class: paper\n",
      "Generating 939 new images for paper...\n",
      "Processing class: plastic\n",
      "Generating 1124 new images for plastic...\n",
      "Processing class: shoes\n",
      "Generating 12 new images for shoes...\n",
      "Processing class: trash\n",
      "Generating 1292 new images for trash...\n",
      "Processing class: white-glass\n",
      "Generating 1214 new images for white-glass...\n",
      "\n",
      "Dataset balancing complete.\n"
     ]
    }
   ],
   "source": [
    "import os\n",
    "import cv2\n",
    "import random\n",
    "\n",
<<<<<<< HEAD
    "\n",
    "source_dir = '../data/raw/'\n",
    "output_dir = '../data/processed/'\n",
    "target_size = (128, 128)\n",
=======
    "source_dir = '.../../data/raw/'\n",
    "output_dir = '.../../data/processed/'\n",
>>>>>>> 3a31dbd2a74569ce696380d83f03b478db339aba
    "\n",
    "# List of available augmentation functions\n",
    "augmentations = [rotate, flip, random_erasing]\n",
    "\n",
    "# 1. Calculate class sizes and find the target number of images\n",
    "class_counts = {}\n",
    "for folder in os.listdir(source_dir):\n",
    "    folder_path = os.path.join(source_dir, folder)\n",
    "    if os.path.isdir(folder_path):\n",
    "        class_counts[folder] = len(os.listdir(folder_path))\n",
    "\n",
    "if not class_counts:\n",
    "    print(\"Source directory is empty or contains no subdirectories.\")\n",
    "else:\n",
    "    max_images = max(class_counts.values())\n",
    "    print(f\"Target image count per class: {max_images}\")\n",
    "\n",
    "    # 2. Create output directories and process each class\n",
    "    for class_name, current_count in class_counts.items():\n",
    "        print(f\"Processing class: {class_name}\")\n",
    "\n",
    "        # Create corresponding output directory\n",
    "        output_class_dir = os.path.join(output_dir, class_name)\n",
    "        os.makedirs(output_class_dir, exist_ok=True)\n",
    "\n",
    "        source_class_dir = os.path.join(source_dir, class_name)\n",
    "        image_files = [f for f in os.listdir(source_class_dir) if f.lower().endswith(('.png', '.jpg', '.jpeg'))]\n",
    "\n",
    "        # Copy original images\n",
    "        for filename in image_files:\n",
    "            img_path = os.path.join(source_class_dir, filename)\n",
    "            image = cv2.imread(img_path)\n",
    "            if image is None:\n",
    "                continue\n",
    "            save_path = os.path.join(output_class_dir, filename)\n",
    "            cv2.imwrite(save_path, image)\n",
    "\n",
    "        #  Generate new images if needed\n",
    "        num_to_generate = max_images - current_count\n",
    "        print(f\"Generating {num_to_generate} new images for {class_name}...\")\n",
    "\n",
    "        for i in range(num_to_generate):\n",
    "            # Pick a random original image to augment\n",
    "            random_image_name = random.choice(image_files)\n",
    "            image_path = os.path.join(source_class_dir, random_image_name)\n",
    "            image = cv2.imread(image_path)\n",
    "\n",
    "            if image is None:\n",
    "                continue\n",
    "\n",
    "            # Apply a random number of augmentations\n",
    "            num_aug_to_apply = random.randint(1, len(augmentations))\n",
    "            augs_to_apply = random.sample(augmentations, num_aug_to_apply)\n",
    "\n",
    "            augmented_image = image\n",
    "            for aug_func in augs_to_apply:\n",
    "                augmented_image = aug_func(augmented_image)\n",
    "\n",
    "            # Save the new image\n",
    "            base_filename, file_ext = os.path.splitext(random_image_name)\n",
    "            new_filename = f\"{base_filename}_aug_{i}{file_ext}\"\n",
    "            save_path = os.path.join(output_class_dir, new_filename)\n",
    "            cv2.imwrite(save_path, augmented_image)\n",
    "\n",
    "    print(\"\\nDataset balancing complete.\")\n"
   ]
  },
  {
   "cell_type": "markdown",
   "id": "8a42a9e65ead20b",
   "metadata": {},
   "source": [
    "## Pre-Processing Stratey"
   ]
  },
  {
   "cell_type": "markdown",
   "id": "7137bc39530ca4aa",
   "metadata": {},
   "source": [
    "now we have a balanced dataset with each class containing the same number of images. The images have been resized to 128x128 pixels, and various augmentations have been applied to generate new images for classes that initially had fewer samples. Additionally, histogram equalization has been applied to enhance image contrast.\n",
    "1. Resize to 224x224\n",
    "2. Denoise (Gaussian blur)\n",
    "3. Sharpen\n",
    "4. Histogram equalization\n",
    "5. Normalize to [0, 1]"
   ]
  },
  {
   "cell_type": "markdown",
   "id": "37b64394b9898df1",
   "metadata": {},
   "source": [
    "#### Resize"
   ]
  },
  {
   "cell_type": "code",
   "execution_count": 30,
   "id": "cc47e9136a2ead53",
   "metadata": {
    "ExecuteTime": {
     "end_time": "2025-09-23T13:52:40.603650Z",
     "start_time": "2025-09-23T13:52:40.599294Z"
    }
   },
   "outputs": [],
   "source": [
    "# Resize to 128x128\n",
    "def resize(image, size=(224, 224)):\n",
    "    resized_img = cv2.resize(image, size)\n",
    "    return resized_img"
   ]
  },
  {
   "cell_type": "markdown",
   "id": "67a1e355a8622f0f",
   "metadata": {},
   "source": [
    "#### Denoise"
   ]
  },
  {
   "cell_type": "code",
   "execution_count": 31,
   "id": "6e56bab4caad88aa",
   "metadata": {
    "ExecuteTime": {
     "end_time": "2025-09-23T13:52:40.638303Z",
     "start_time": "2025-09-23T13:52:40.630500Z"
    }
   },
   "outputs": [],
   "source": [
    "def denoise(image):\n",
    "    h, w = image.shape[:2]\n",
    "    # Kernel size: 1/50th of the smallest dimension, rounded to nearest odd integer\n",
    "    ksize = max(3, min(15, (min(h, w) // 50) | 1))\n",
    "    blurred_image = cv2.GaussianBlur(image, (ksize, ksize), 0)\n",
    "    return blurred_image\n"
   ]
  },
  {
   "cell_type": "markdown",
   "id": "90841a104afbbfb0",
   "metadata": {},
   "source": [
    "#### Sharpen"
   ]
  },
  {
   "cell_type": "code",
   "execution_count": 32,
   "id": "76cc136dd9a442fb",
   "metadata": {
    "ExecuteTime": {
     "end_time": "2025-09-23T13:52:40.653835Z",
     "start_time": "2025-09-23T13:52:40.647303Z"
    }
   },
   "outputs": [],
   "source": [
    "def sharpen(image):\n",
    "    h, w = image.shape[:2]\n",
    "    # Sharpening strength: scale with image size, but keep reasonable bounds\n",
    "    alpha = min(2.0, max(1.0, min(h, w) / 128))\n",
    "    # Sharpening kernel\n",
    "    kernel = np.array([[0, -1, 0],\n",
    "                       [-1, 4 * alpha + 1, -1],\n",
    "                       [0, -1, 0]])\n",
    "    kernel = kernel / (4 * alpha)\n",
    "    sharpened = cv2.filter2D(image, -1, kernel)\n",
    "    return sharpened\n"
   ]
  },
  {
   "cell_type": "markdown",
   "id": "130889b22824b9cd",
   "metadata": {},
   "source": [
    "#### Histogram Equilization"
   ]
  },
  {
   "cell_type": "code",
   "execution_count": 33,
   "id": "e611e4831df1e21",
   "metadata": {
    "ExecuteTime": {
     "end_time": "2025-09-23T13:52:40.668788Z",
     "start_time": "2025-09-23T13:52:40.662655Z"
    }
   },
   "outputs": [],
   "source": [
    "def histogram_equalization(image):\n",
    "    # Convert to YCrCb color space\n",
    "    ycrcb = cv2.cvtColor(image, cv2.COLOR_BGR2YCrCb)\n",
    "    # Equalize the histogram of the Y channel\n",
    "    ycrcb[:, :, 0] = cv2.equalizeHist(ycrcb[:, :, 0])\n",
    "    # Convert back to BGR\n",
    "    equalized_img = cv2.cvtColor(ycrcb, cv2.COLOR_YCrCb2BGR)\n",
    "    return equalized_img"
   ]
  },
  {
   "cell_type": "markdown",
   "id": "8eac254e07a823e6",
   "metadata": {},
   "source": [
    "#### Normalize"
   ]
  },
  {
   "cell_type": "code",
   "execution_count": 34,
   "id": "7afe8b7e7c571d27",
   "metadata": {
    "ExecuteTime": {
     "end_time": "2025-09-23T13:52:40.680724Z",
     "start_time": "2025-09-23T13:52:40.676010Z"
    }
   },
   "outputs": [],
   "source": [
    "def normalize(image):\n",
    "    # Convert to float32 and scale to [0, 1]\n",
    "    norm_img = image.astype(np.float32) / 255.0\n",
    "    return norm_img\n"
   ]
  },
  {
   "cell_type": "markdown",
   "id": "591d4766cc1377dc",
   "metadata": {},
   "source": [
    "#### Pre Processing the image dataset\n"
   ]
  },
  {
   "cell_type": "code",
   "execution_count": 35,
   "id": "7bfe99659e03d39b",
   "metadata": {
    "ExecuteTime": {
     "end_time": "2025-09-23T13:53:53.042247Z",
     "start_time": "2025-09-23T13:52:40.695583Z"
    }
   },
   "outputs": [],
   "source": [
    "import os\n",
    "import cv2\n",
    "import numpy as np\n",
    "\n",
    "source_dir = '.../../data/processed/'\n",
    "output_dir = '.../../data/final/'\n",
    "\n",
    "for directory in os.listdir(source_dir):\n",
    "    source_class_dir = os.path.join(source_dir, directory)\n",
    "    output_class_dir = os.path.join(output_dir, directory)\n",
    "    os.makedirs(output_class_dir, exist_ok=True)\n",
    "\n",
    "    for filename in os.listdir(source_class_dir):\n",
    "        if filename.lower().endswith(('.png', '.jpg', '.jpeg')):\n",
    "            img_path = os.path.join(source_class_dir, filename)\n",
    "            image = cv2.imread(img_path)\n",
    "            if image is None:\n",
    "                continue\n",
    "\n",
    "            # Apply preprocessing steps\n",
    "            image = resize(image)\n",
    "            image = denoise(image)\n",
    "            image = sharpen(image)\n",
    "            image = histogram_equalization(image)\n",
    "            image = normalize(image)\n",
    "\n",
    "            # Save the preprocessed image\n",
    "            save_path = os.path.join(output_class_dir, filename)\n",
    "            cv2.imwrite(save_path, (image * 255).astype(np.uint8))\n"
   ]
  },
  {
   "cell_type": "code",
   "execution_count": null,
   "id": "7698dda5bd4b4f86",
   "metadata": {},
   "outputs": [],
   "source": []
  }
 ],
 "metadata": {
  "kernelspec": {
   "display_name": "Python 3",
   "language": "python",
   "name": "python3"
  },
  "language_info": {
   "codemirror_mode": {
    "name": "ipython",
    "version": 2
   },
   "file_extension": ".py",
   "mimetype": "text/x-python",
   "name": "python",
   "nbconvert_exporter": "python",
   "pygments_lexer": "ipython2",
   "version": "3.10.0"
  }
 },
 "nbformat": 4,
 "nbformat_minor": 5
}
